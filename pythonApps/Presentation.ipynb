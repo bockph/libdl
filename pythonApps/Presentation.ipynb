{
 "cells": [
  {
   "cell_type": "markdown",
   "metadata": {
    "slideshow": {
     "slide_type": "slide"
    }
   },
   "source": [
    "LEGO Bricks Classification \n",
    "======================\n",
    "\n",
    "Philipp Bock  \n",
    "Technical University of Munich  \n",
    "Garching, 31st of Juli, 2019  \n"
   ]
  },
  {
   "cell_type": "markdown",
   "metadata": {
    "slideshow": {
     "slide_type": "slide"
    }
   },
   "source": [
    "1. Library Structure\n",
    "-------------------------------------\n"
   ]
  },
  {
   "cell_type": "markdown",
   "metadata": {
    "slideshow": {
     "slide_type": "fragment"
    }
   },
   "source": [
    "2. Project: Lego Brick Classification\n",
    "-------------------------------------\n"
   ]
  },
  {
   "cell_type": "markdown",
   "metadata": {
    "slideshow": {
     "slide_type": "slide"
    }
   },
   "source": [
    "Library Structure\n",
    "=============\n",
    "![title](jupyterResources\\img\\components_1.png)\n"
   ]
  },
  {
   "cell_type": "markdown",
   "metadata": {
    "slideshow": {
     "slide_type": "fragment"
    }
   },
   "source": [
    "![title](jupyterResources\\img\\neuralNetwork_desc.png)"
   ]
  },
  {
   "cell_type": "markdown",
   "metadata": {
    "slideshow": {
     "slide_type": "fragment"
    }
   },
   "source": [
    "![title](jupyterResources\\img\\utilities_desc.png)"
   ]
  },
  {
   "cell_type": "markdown",
   "metadata": {
    "slideshow": {
     "slide_type": "slide"
    }
   },
   "source": [
    "Lego Bricks Classification\n",
    "===========================\n"
   ]
  },
  {
   "cell_type": "markdown",
   "metadata": {
    "slideshow": {
     "slide_type": "slide"
    }
   },
   "source": [
    "<img src=\"jupyterResources\\img\\bugattiLego.jpg\" alt=\"Drawing\" />\n",
    "\n",
    "(Source: Lego Group, https://www.lego.com/de-de/themes/technic/bugatti-chiron/build-for-real)"
   ]
  },
  {
   "cell_type": "markdown",
   "metadata": {
    "slideshow": {
     "slide_type": "slide"
    }
   },
   "source": [
    "<img src=\"jupyterResources\\img\\legomess.jpg\" alt=\"Drawing\" width=\"80%\"/>\n",
    "(Source: Flickr, https://www.flickr.com/photos/strutta/2326837169/ )\n",
    "\n"
   ]
  },
  {
   "cell_type": "markdown",
   "metadata": {
    "slideshow": {
     "slide_type": "slide"
    }
   },
   "source": [
    "Dataset:\n",
    "=====\n",
    "    - 16 different types of Lego Bricks\n",
    "    - 400 images with different view angles/ type\n",
    "\n",
    "\n",
    "\n"
   ]
  },
  {
   "cell_type": "markdown",
   "metadata": {
    "slideshow": {
     "slide_type": "subslide"
    }
   },
   "source": [
    "2357 - Brick corner 1x2x2\n",
    "-------------------------------------\n",
    "<img src=\"jupyterResources\\img\\brick1.png\" alt=\"Drawing\" style=\"height: 100px;\"/>\n",
    "\n",
    "3022 - Plate 2x2\n",
    "----------------------------------\n",
    "<img src=\"jupyterResources\\img\\brick5.png\" alt=\"Drawing\" style=\"height: 100px;\"/>\n",
    "<!---\n",
    "3040 - Roof Tile 1x2x45deg\n",
    "--------------------------------------\n",
    "<img src=\"jupyterResources\\img\\brick8.png\" alt=\"Drawing\" style=\"height: 100px;\"/>--->\n",
    "\n",
    "3794 - Plate 1x2 with 1 Knob\n",
    "----------------------------------------\n",
    "<img src=\"jupyterResources\\img\\brick13.png\" alt=\"Drawing\" style=\"height: 100px;\"/>\n",
    "\n"
   ]
  },
  {
   "cell_type": "markdown",
   "metadata": {
    "slideshow": {
     "slide_type": "slide"
    }
   },
   "source": [
    "Import stuff"
   ]
  },
  {
   "cell_type": "code",
   "execution_count": null,
   "metadata": {
    "slideshow": {
     "slide_type": "fragment"
    }
   },
   "outputs": [],
   "source": [
    "import sys\n",
    "#projectDir should point to the Project path\n",
    "projectDir='/mnt/c/Users/phili/Desktop/Projekte/libdl/'\n",
    "# projectDir='/home/pbo/CLionProjects/libdl/'\n",
    "#select if release or build\n",
    "sys.path.append(projectDir+'cmake-build-release/library/bindings')\n",
    "sys.path.append(projectDir+'cmake-build-release/library/bindings')\n",
    "\n",
    "import numpy as np \n",
    "import matplotlib.pyplot as plt\n",
    "import matplotlib.image as mpimg\n",
    "\n",
    "import libdl as dl \n",
    "\n",
    "#name of the pretrainedNetwork\n",
    "pretrainedNetwork = \"batch16_500Samples\"\n"
   ]
  },
  {
   "cell_type": "markdown",
   "metadata": {
    "slideshow": {
     "slide_type": "subslide"
    }
   },
   "source": [
    "setting BatchSize & Loading Shuffled Data"
   ]
  },
  {
   "cell_type": "code",
   "execution_count": null,
   "metadata": {
    "slideshow": {
     "slide_type": "fragment"
    }
   },
   "outputs": [],
   "source": [
    "batchSize=16\n",
    "amountBatches = 100\n",
    "dataStringPairs = dl.LegoDataLoader.shuffleData(projectDir+\"data/\")\n",
    "data = dl.DataSet()\n",
    "dl.LegoDataLoader.getData(batchSize*amountBatches,dataStringPairs,data)"
   ]
  },
  {
   "cell_type": "markdown",
   "metadata": {
    "slideshow": {
     "slide_type": "subslide"
    }
   },
   "source": [
    "Creation of a Graph object that will be passed to the layers"
   ]
  },
  {
   "cell_type": "code",
   "execution_count": null,
   "metadata": {
    "slideshow": {
     "slide_type": "fragment"
    }
   },
   "outputs": [],
   "source": [
    "graph = dl.Graph()\n"
   ]
  },
  {
   "cell_type": "markdown",
   "metadata": {
    "slideshow": {
     "slide_type": "slide"
    }
   },
   "source": [
    "Layer Creation, for the Lego Brick Classification we use:\n",
    "    - Input Layer where each Sample is of Dimension 200x200 and has 4 channels\n",
    "    - Convolutional Layer, 32=Filters, Kerneldim=8, Stride= 2, Activation = ReLu\n",
    "    - MaxPool Layer, KernelDim=2, Stride = 2\n",
    "    - Convolutional Layer, 64=Filters, Kerneldim=5, Stride= 2, Activation = ReLu\n",
    "    - MaxPool Layer, KernelDim=2, Stride = 2\n",
    "    - Dense Layer, 1024 Neurons, Activation = ReLu\n",
    "    - Dense Layer, 16 Neurons, Activation = ReLu\n",
    "    - Logits Layer with Softmax Classification\n",
    "    - Loss Layer, LossType = CrossEntropy\n",
    "    \n",
    "     "
   ]
  },
  {
   "cell_type": "code",
   "execution_count": null,
   "metadata": {
    "slideshow": {
     "slide_type": "subslide"
    }
   },
   "outputs": [],
   "source": [
    "inputLayer = dl.InputLayer(graph,batchSize,160000,4)\n",
    "\n",
    "convolution1 = dl.ConvolutionLayer(inputLayer,graph, dl.ActivationType.ReLu,32,8,2,dl.InitializationType.Xavier)\n",
    "maxPool1 = dl.MaxPoolLayer(convolution1,graph,2,2)\n",
    "\n",
    "\n",
    "convolution2 = dl.ConvolutionLayer(maxPool1,graph, dl.ActivationType.ReLu,64,5,2,dl.InitializationType.Xavier)\n",
    "\n",
    "maxPool2 = dl.MaxPoolLayer(convolution2,graph,2,2)\n",
    "\n",
    "\n",
    "dense1 = dl.DenseLayer(maxPool2,graph,dl.ActivationType.ReLu,1024,dl.InitializationType.Xavier)\n",
    "\n",
    "dense2 = dl.DenseLayer(dense1,graph,dl.ActivationType.ReLu,16,dl.InitializationType.Xavier)\n",
    "\n",
    "logits = dl.LogitsLayer(dense2,graph,16)\n",
    "\n",
    "loss = dl.LossLayer(logits,graph, dl.LossType.CrossEntropy)"
   ]
  },
  {
   "cell_type": "markdown",
   "metadata": {
    "slideshow": {
     "slide_type": "subslide"
    }
   },
   "source": [
    "Network creation and loading of pretrained Network\n",
    "\n",
    "hyper parameters used:\n",
    "\n",
    "    - batchSize =16\n",
    "    - epochs =5\n",
    "    - learningRate=0.0001\n",
    "    - amountBatches=500\n",
    "    - Adam Optimizer with \n",
    "        - beta1 = 0.9 \n",
    "        - beta2 =0.999\n"
   ]
  },
  {
   "cell_type": "code",
   "execution_count": null,
   "metadata": {
    "slideshow": {
     "slide_type": "fragment"
    }
   },
   "outputs": [],
   "source": [
    "network = dl.NeuralNetwork(graph,inputLayer,loss)\n",
    "network.readParameters(projectDir+\"WeightDeposit/\",pretrainedNetwork)\n",
    "\n",
    "# this is for actual training\n",
    "\n",
    "#set hyper parameters\n",
    "# epochs =5\n",
    "# learningRate=0.0001\n",
    "# amountBatches=500\n",
    "\n",
    "# hyperParameters = dl.HyperParameters(epochs,batchSize,learningRate)\n",
    "#trainingEvaluation = network.trainAndValidate(data,learningParameters,1)\n",
    "#network.writeVariables(projectDir+\"WeightDeposit/\",nameNewNetwork)"
   ]
  },
  {
   "cell_type": "markdown",
   "metadata": {
    "slideshow": {
     "slide_type": "slide"
    }
   },
   "source": [
    "![title](jupyterResources\\img\\accuracy_Graph_batch16_500Samples.png)\n",
    "\n"
   ]
  },
  {
   "cell_type": "markdown",
   "metadata": {
    "slideshow": {
     "slide_type": "slide"
    }
   },
   "source": [
    "![title](jupyterResources\\img\\loss_Graph_batch16_500Samples.png)\n"
   ]
  },
  {
   "cell_type": "code",
   "execution_count": 1,
   "metadata": {
    "slideshow": {
     "slide_type": "skip"
    }
   },
   "outputs": [],
   "source": [
    "referenceList =[[0, '2357 - Brick corner 1x2x2','lego/train/1/0002.png'],\n",
    " [1, '3003 - Brick 2x2','lego/train/2/0001.png'],\n",
    " [2, '3004 - Brick 1x2','lego/train/3/0001.png'],\n",
    " [3, '3005 - Brick 1x2','lego/train/4/0001.png'],\n",
    " [4, '3022 - Plate 2x2','lego/train/5/0009.png'],\n",
    " [5, '3023 - Plate 1x2','lego/train/6/0001.png'],\n",
    " [6, '3024 - Plate 1x1','lego/train/7/0001.png'],\n",
    " [7, '3040 - Roof Tile 1x2x45deg','lego/train/8/0001.png'],\n",
    " [8, '3069 - Flat Tile 1x2','lego/train/9/0028.png'],\n",
    " [9, '3673 - Peg 2M','lego/train/10/0001.png'],\n",
    " [10, '3713 - Bush for Cross Axle','lego/train/11/0001.png'],\n",
    " [11, '3794 - Plate 1x2 with 1 Knob','lego/train/12/0001.png'],\n",
    " [12, '6632 - Technic Lever 3M','lego/train/13/0014.png'],\n",
    " [13, '11214 - Bush 3M friction with Cross axis','lego/train/14/0001.png'],\n",
    " [14, '18651 - Cross Axle 2M with Snap friction','lego/train/15/0001.png'],\n",
    " [15, '32123 - half Bush','lego/train/16/0001.png']]\n",
    "\n",
    "class bcolors:\n",
    "    HEADER = '\\033[95m'\n",
    "    OKBLUE = '\\033[94m'\n",
    "    OKGREEN = '\\033[92m'\n",
    "    WARNING = '\\033[93m'\n",
    "    FAIL = '\\033[91m'\n",
    "    ENDC = '\\033[0m'\n",
    "    BOLD = '\\033[1m'\n",
    "    UNDERLINE = '\\033[4m'\n",
    "\n",
    "def showPredictions(sampleBatch,labelBatch,network,i,dataStringPairs):\n",
    "   \n",
    "    prediction = network.predictBatch(sampleBatch,labelBatch)\n",
    "    for (n,singlePrediction,label) in zip(enumerate(prediction),prediction,labelBatches[i]):\n",
    "        maxP = max(singlePrediction)\n",
    "        pred = np.where(singlePrediction==maxP)[0][0].astype(int)\n",
    "        actual=dataStringPairs[i*batchSize+n[0]][1]\n",
    "        img1=mpimg.imread(dataStringPairs[i*batchSize+n[0]][0])        \n",
    "        \n",
    "        img2=mpimg.imread(projectDir+'data/'+referenceList[pred][2])\n",
    "#         print(\"Actual:\"+referenceList[dataStringPairs[i*batchSize+n[0]][1]][1])\n",
    "#         print('Predicted: '+referenceList[pred][1])\n",
    "#         print('Probability: '+maxP.astype(str))\n",
    "        f, axarr = plt.subplots(1,2)\n",
    "        axarr[0].imshow(img1)\n",
    "        axarr[1].imshow(img2)\n",
    "        axarr[0].title.set_text(\"Actual:\"+referenceList[dataStringPairs[i*batchSize+n[0]][1]][1])\n",
    "        axarr[1].title.set_text('Predicted: '+referenceList[pred][1]+'\\n'+'Probability: '+maxP.astype(str))\n",
    "\n",
    "        if pred!=actual:\n",
    "            print(bcolors.FAIL+'WRONG PREDICTION')\n",
    "        else:\n",
    "            print(bcolors.OKGREEN+'CORRECT PREDICTION')\n",
    "        plt.subplots_adjust(left=0.125, bottom=0.1, right=1.5, top=0.9, wspace=0.2, hspace=None)\n",
    "\n",
    "        \n",
    "        plt.show()"
   ]
  },
  {
   "cell_type": "code",
   "execution_count": null,
   "metadata": {
    "slideshow": {
     "slide_type": "slide"
    }
   },
   "outputs": [],
   "source": [
    "sampleBatches =dl.NeuralNetwork.extractBatchList(data._trainingSamples,batchSize)\n",
    "labelBatches =dl.NeuralNetwork.extractBatchList(data._trainingLabels,batchSize)\n",
    "\n",
    "print(labelBatches[i])\n",
    "print(network.predictBatch(sampleBatches[i],labelBatches[i]))\n",
    "#i sets the #Batch that should be predicted\n",
    "i=2\n",
    "        \n",
    "showPredictions(sampleBatches[i],labelBatches[i],network,i,dataStringPairs)"
   ]
  },
  {
   "cell_type": "markdown",
   "metadata": {
    "slideshow": {
     "slide_type": "slide"
    }
   },
   "source": [
    "THANK YOU FOR YOUR ATTENTION!\n",
    "==============================="
   ]
  },
  {
   "cell_type": "markdown",
   "metadata": {
    "slideshow": {
     "slide_type": "slide"
    }
   },
   "source": [
    "Accuracy Graph with BatchSize 4\n",
    "![title](jupyterResources\\img\\accuracy_Graph_batch4_500Samples.png)\n"
   ]
  },
  {
   "cell_type": "markdown",
   "metadata": {
    "slideshow": {
     "slide_type": "slide"
    }
   },
   "source": [
    "Loss Graph with BatchSize 4\n",
    "![title](jupyterResources\\img\\loss_Graph_batch4_500Samples.png)\n"
   ]
  },
  {
   "cell_type": "markdown",
   "metadata": {
    "slideshow": {
     "slide_type": "slide"
    }
   },
   "source": [
    "Computational Graph\n",
    "==================\n",
    "![title](jupyterResources\\img\\UML_compute_graph.png)\n"
   ]
  },
  {
   "cell_type": "markdown",
   "metadata": {
    "slideshow": {
     "slide_type": "slide"
    }
   },
   "source": [
    "![title](jupyterResources\\img\\computeForward.png)\n"
   ]
  },
  {
   "cell_type": "markdown",
   "metadata": {
    "slideshow": {
     "slide_type": "fragment"
    }
   },
   "source": [
    "![title](jupyterResources\\img\\computeBackwards.png)\n"
   ]
  },
  {
   "cell_type": "markdown",
   "metadata": {
    "slideshow": {
     "slide_type": "fragment"
    }
   },
   "source": [
    "![title](jupyterResources\\img\\updateParams.png)\n"
   ]
  },
  {
   "cell_type": "markdown",
   "metadata": {
    "slideshow": {
     "slide_type": "slide"
    }
   },
   "source": [
    "\n",
    "Each Operation has to implement forwardPass() and BackwardPass()\n",
    "    - forwardPass assumes that the input node has already provided  an outputValue\n",
    "    - backwardPass assumes that the previous node has set its gradients  as _previousGradients in the current Node\n",
    "\n",
    "Each Parameter has to implement updateParameter()\n",
    "    - updateParameter() assumes that _previousGradients is set in current Node\n"
   ]
  }
 ],
 "metadata": {
  "celltoolbar": "Slideshow",
  "kernelspec": {
   "display_name": "Python 3",
   "language": "python",
   "name": "python3"
  },
  "language_info": {
   "codemirror_mode": {
    "name": "ipython",
    "version": 3
   },
   "file_extension": ".py",
   "mimetype": "text/x-python",
   "name": "python",
   "nbconvert_exporter": "python",
   "pygments_lexer": "ipython3",
   "version": "3.6.8"
  }
 },
 "nbformat": 4,
 "nbformat_minor": 2
}
