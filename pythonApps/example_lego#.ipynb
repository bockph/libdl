{
 "cells": [
  {
   "cell_type": "code",
   "execution_count": 1,
   "metadata": {
    "collapsed": true
   },
   "outputs": [
    {
     "data": {
      "text/plain": [
       "[(19.521942138671875, 15.834096908569336),\n",
       " (9.361749649047852, 11.181146621704102),\n",
       " (7.584835052490234, 12.441819190979004),\n",
       " (4.752013206481934, 13.122718811035156),\n",
       " (2.613630771636963, 13.754165649414062)]"
      ]
     },
     "execution_count": 1,
     "metadata": {},
     "output_type": "execute_result"
    }
   ],
   "source": [
    "import sys\n",
    "projectDir='/mnt/c/Users/phili/Desktop/Projekte/libdl/'\n",
    "sys.path.append(projectDir+'cmake-build-release/library/bindings')\n",
    "import libdl as dl\n",
    "import matplotlib as plt\n",
    "\n",
    "\n",
    "batchSize =4\n",
    "epochs =5\n",
    "\n",
    "learningRate=0.0001\n",
    "amountBatches=10\n",
    "\n",
    "dataStringPairs = dl.LegoDataLoader.shuffleData(projectDir+\"data/\")\n",
    "\n",
    "data = dl.DataSet()\n",
    "\n",
    "dl.LegoDataLoader.getData(batchSize*amountBatches,dataStringPairs,data)\n",
    "\n",
    "config = dl.HyperParameters(epochs,batchSize,learningRate)\n",
    "\n",
    "graph = dl.Graph(config)\n",
    "\n",
    "inputLayer = dl.InputLayer(graph,batchSize,160000,4)\n",
    "\n",
    "convolution1 = dl.ConvolutionLayer(inputLayer,graph, dl.ActivationType.ReLu,32,8,2,dl.InitializationType.Xavier)\n",
    "\n",
    "maxPool1 = dl.MaxPoolLayer(convolution1,graph,2,2)\n",
    "\n",
    "convolution2 = dl.ConvolutionLayer(maxPool1,graph, dl.ActivationType.ReLu,64,5,2,dl.InitializationType.Xavier)\n",
    "\n",
    "maxPool2 = dl.MaxPoolLayer(convolution2,graph,2,2)\n",
    "\n",
    "dense1 = dl.DenseLayer(maxPool2,graph,dl.ActivationType.ReLu,1024,dl.InitializationType.Xavier)\n",
    "\n",
    "dense2 = dl.DenseLayer(dense1,graph,dl.ActivationType.ReLu,16,dl.InitializationType.Xavier)\n",
    "\n",
    "logits = dl.LogitsLayer(dense2,graph,16)\n",
    "\n",
    "loss = dl.LossLayer(logits,graph, dl.LossType.CrossEntropy)\n",
    "\n",
    "network = dl.NeuralNetwork(graph,inputLayer,loss,config)\n",
    "\n",
    " losses= network.trainAndValidate(data,config,1)\n",
    "\n",
    "\n",
    "\n"
   ]
  },
  {
   "cell_type": "code",
   "execution_count": null,
   "metadata": {},
   "outputs": [],
   "source": []
  }
 ],
 "metadata": {
  "kernelspec": {
   "display_name": "Python 3",
   "language": "python",
   "name": "python3"
  },
  "language_info": {
   "codemirror_mode": {
    "name": "ipython",
    "version": 3
   },
   "file_extension": ".py",
   "mimetype": "text/x-python",
   "name": "python",
   "nbconvert_exporter": "python",
   "pygments_lexer": "ipython3",
   "version": "3.6.8"
  }
 },
 "nbformat": 4,
 "nbformat_minor": 1
}
